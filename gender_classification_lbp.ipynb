{
 "cells": [
  {
   "cell_type": "code",
   "execution_count": 139,
   "metadata": {},
   "outputs": [
    {
     "name": "stdout",
     "output_type": "stream",
     "text": [
      "Populating the interactive namespace from numpy and matplotlib\n"
     ]
    }
   ],
   "source": [
    "%pylab inline --no-import-all\n",
    "from skimage import feature\n",
    "import numpy as np\n",
    "import os"
   ]
  },
  {
   "cell_type": "code",
   "execution_count": 163,
   "metadata": {},
   "outputs": [
    {
     "name": "stdout",
     "output_type": "stream",
     "text": [
      "['bangla_5_2_0.jpg', 'bangla12_1_1.jpg', 'bangla_4_2_0.jpg', 'bangla_2_1_0.jpg', 'bangla_6_3_0.jpg', 'bangla_7_2_1.jpg', 'bangla11_1_1.jpg', 'bangla_6_1_0.jpg', 'bangla14_1_1.jpg', 'bangla12_2_1.jpg', 'bangla_5_1_0.jpg', 'bangla10_2_1.jpg', 'bangla_9_2_1.jpg', 'bangla12_3_1.jpg', 'bangla13_1_1.jpg', 'bangla13_3_1.jpg', 'bangla10_4_1.jpg', 'bangla_2_2_0.jpg', 'bangla_1_2_0.jpg', 'bangla_1_4_0.jpg', 'bangla_1_1_0.jpg', 'bangla13_2_1.jpg', 'bangla_9_1_1.jpg', 'bangla_6_4_0.jpg', 'bangla_7_3_1.jpg', 'bangla_7_1_1.jpg', 'bangla_7_4_1.jpg', 'bangla14_2_1.jpg', 'bangla_6_2_0.jpg', 'bangla_9_4_1.jpg', 'bangla_3_3_0.jpg', 'bangla14_4_1.jpg', 'bangla_3_1_0.jpg', 'bangla12_4_1.jpg', 'bangla_4_4_0.jpg', 'bangla_8_1_1.jpg', 'bangla13_4_1.jpg', 'bangla_5_3_0.jpg', 'bangla11_2_1.jpg', 'bangla_2_4_0.jpg', 'bangla_8_3_1.jpg', 'bangla_8_4_1.jpg', 'bangla10_1_1.jpg', 'bangla_9_3_1.jpg', 'bangla14_3_1.jpg', 'bangla_4_3_0.jpg', 'bangla_5_4_0.jpg', 'bangla_3_4_0.jpg', 'bangla11_4_1.jpg', 'bangla_8_2_1.jpg', 'bangla_2_3_0.jpg', 'bangla_3_2_0.jpg', 'bangla_1_3_1.jpg', 'bangla_4_1_0.jpg', 'bangla_1_3_0.jpg', 'bangla10_3_1.jpg']\n"
     ]
    }
   ],
   "source": [
    "train_image=os.listdir(\"//home//mehendi//Documents//segmented_scan\")\n",
    "print(train_image)"
   ]
  },
  {
   "cell_type": "code",
   "execution_count": 187,
   "metadata": {},
   "outputs": [],
   "source": [
    "def histogramplot(gray):\n",
    "    radius=2\n",
    "    numpoints=16\n",
    "    lbp=feature.local_binary_pattern(gray,numpoints,radius,method='uniform')\n",
    "    (hist,_)=np.histogram(lbp.ravel(),bins=np.arange(0,numpoints+2),range=(0,numpoints+3))\n",
    "    \n",
    "    #normalize histogram\n",
    "    hist=hist.astype(float)\n",
    "    hist=hist/(hist.sum()+(1e-7))\n",
    "    return hist"
   ]
  },
  {
   "cell_type": "code",
   "execution_count": 188,
   "metadata": {},
   "outputs": [
    {
     "name": "stdout",
     "output_type": "stream",
     "text": [
      "Processing image:bangla_5_2_0.jpg\n",
      "Processing image:bangla12_1_1.jpg\n",
      "Processing image:bangla_4_2_0.jpg\n",
      "Processing image:bangla_2_1_0.jpg\n",
      "Processing image:bangla_6_3_0.jpg\n",
      "Processing image:bangla_7_2_1.jpg\n",
      "Processing image:bangla11_1_1.jpg\n",
      "Processing image:bangla_6_1_0.jpg\n",
      "Processing image:bangla14_1_1.jpg\n",
      "Processing image:bangla12_2_1.jpg\n",
      "Processing image:bangla_5_1_0.jpg\n",
      "Processing image:bangla10_2_1.jpg\n",
      "Processing image:bangla_9_2_1.jpg\n",
      "Processing image:bangla12_3_1.jpg\n",
      "Processing image:bangla13_1_1.jpg\n",
      "Processing image:bangla13_3_1.jpg\n",
      "Processing image:bangla10_4_1.jpg\n",
      "Processing image:bangla_2_2_0.jpg\n",
      "Processing image:bangla_1_2_0.jpg\n",
      "Processing image:bangla_1_4_0.jpg\n",
      "Processing image:bangla_1_1_0.jpg\n",
      "Processing image:bangla13_2_1.jpg\n",
      "Processing image:bangla_9_1_1.jpg\n",
      "Processing image:bangla_6_4_0.jpg\n",
      "Processing image:bangla_7_3_1.jpg\n",
      "Processing image:bangla_7_1_1.jpg\n",
      "Processing image:bangla_7_4_1.jpg\n",
      "Processing image:bangla14_2_1.jpg\n",
      "Processing image:bangla_6_2_0.jpg\n",
      "Processing image:bangla_9_4_1.jpg\n",
      "Processing image:bangla_3_3_0.jpg\n",
      "Processing image:bangla14_4_1.jpg\n",
      "Processing image:bangla_3_1_0.jpg\n",
      "Processing image:bangla12_4_1.jpg\n",
      "Processing image:bangla_4_4_0.jpg\n",
      "Processing image:bangla_8_1_1.jpg\n",
      "Processing image:bangla13_4_1.jpg\n",
      "Processing image:bangla_5_3_0.jpg\n",
      "Processing image:bangla11_2_1.jpg\n",
      "Processing image:bangla_2_4_0.jpg\n",
      "Processing image:bangla_8_3_1.jpg\n",
      "Processing image:bangla_8_4_1.jpg\n",
      "Processing image:bangla10_1_1.jpg\n",
      "Processing image:bangla_9_3_1.jpg\n",
      "Processing image:bangla14_3_1.jpg\n",
      "Processing image:bangla_4_3_0.jpg\n",
      "Processing image:bangla_5_4_0.jpg\n",
      "Processing image:bangla_3_4_0.jpg\n",
      "Processing image:bangla11_4_1.jpg\n",
      "Processing image:bangla_8_2_1.jpg\n",
      "Processing image:bangla_2_3_0.jpg\n",
      "Processing image:bangla_3_2_0.jpg\n",
      "Processing image:bangla_1_3_1.jpg\n",
      "Processing image:bangla_4_1_0.jpg\n",
      "Processing image:bangla_1_3_0.jpg\n",
      "Processing image:bangla10_3_1.jpg\n"
     ]
    }
   ],
   "source": [
    "import cv2\n",
    "import matplotlib.pyplot as plt\n",
    "data=[]\n",
    "labels=[]\n",
    "for train in train_image:\n",
    "    image=cv2.imread(\"//home//mehendi//Documents//segmented_scan//\"+train)\n",
    "    gray = cv2.cvtColor(image, cv2.COLOR_BGR2GRAY)\n",
    "    #cv2.imshow(\"gray\",gray)\n",
    "    hist=histogramplot(gray);\n",
    "    data.append(hist)\n",
    "   # plt.hist(hist,bins=\"auto\")\n",
    "    #plt.show()\n",
    "    labels.append(int(train[11]))\n",
    "    print(\"Processing image:\"+train)\n",
    "    \n"
   ]
  },
  {
   "cell_type": "code",
   "execution_count": 189,
   "metadata": {},
   "outputs": [
    {
     "name": "stdout",
     "output_type": "stream",
     "text": [
      "[0, 1, 1, 1, 1, 1, 0, 1, 0, 0, 0, 1, 0, 1, 0, 1, 1]\n",
      "[1 1 1 1 1 1 1 1 1 0 1 1 1 1 0 0 0]\n",
      "LBP ACCURACY=0.5882352941176471\n"
     ]
    }
   ],
   "source": [
    "from sklearn.model_selection import train_test_split\n",
    "from sklearn.svm import LinearSVC\n",
    "from sklearn.metrics import accuracy_score\n",
    "\n",
    "X_train,X_test,Y_train,Y_test=train_test_split(data,labels,test_size=0.3,random_state=26)\n",
    "model = LinearSVC(C=100.0, random_state=42)\n",
    "model.fit(X_train, Y_train)\n",
    "prediction=model.predict(X_test)\n",
    "accuracy=accuracy_score(Y_test,prediction)\n",
    "print(Y_test)\n",
    "print(prediction)\n",
    "print(\"LBP ACCURACY=\"+str(accuracy))"
   ]
  }
 ],
 "metadata": {
  "kernelspec": {
   "display_name": "Python 3",
   "language": "python",
   "name": "python3"
  },
  "language_info": {
   "codemirror_mode": {
    "name": "ipython",
    "version": 3
   },
   "file_extension": ".py",
   "mimetype": "text/x-python",
   "name": "python",
   "nbconvert_exporter": "python",
   "pygments_lexer": "ipython3",
   "version": "3.6.5"
  }
 },
 "nbformat": 4,
 "nbformat_minor": 2
}
